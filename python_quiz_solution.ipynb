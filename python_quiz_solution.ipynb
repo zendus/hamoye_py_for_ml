{
 "cells": [
  {
   "cell_type": "code",
   "execution_count": 1,
   "id": "3ac79ed6",
   "metadata": {},
   "outputs": [],
   "source": [
    "import pandas as pd"
   ]
  },
  {
   "cell_type": "code",
   "execution_count": 7,
   "id": "e87ec2a2",
   "metadata": {
    "scrolled": true
   },
   "outputs": [],
   "source": [
    "csv_df = pd.read_csv('FoodBalanceSheets_E_Africa_NOFLAG.csv', encoding='latin-1')"
   ]
  },
  {
   "cell_type": "code",
   "execution_count": 8,
   "id": "9cf5b5c5",
   "metadata": {
    "scrolled": true
   },
   "outputs": [
    {
     "data": {
      "text/html": [
       "<div>\n",
       "<style scoped>\n",
       "    .dataframe tbody tr th:only-of-type {\n",
       "        vertical-align: middle;\n",
       "    }\n",
       "\n",
       "    .dataframe tbody tr th {\n",
       "        vertical-align: top;\n",
       "    }\n",
       "\n",
       "    .dataframe thead th {\n",
       "        text-align: right;\n",
       "    }\n",
       "</style>\n",
       "<table border=\"1\" class=\"dataframe\">\n",
       "  <thead>\n",
       "    <tr style=\"text-align: right;\">\n",
       "      <th></th>\n",
       "      <th>Area Code</th>\n",
       "      <th>Area</th>\n",
       "      <th>Item Code</th>\n",
       "      <th>Item</th>\n",
       "      <th>Element Code</th>\n",
       "      <th>Element</th>\n",
       "      <th>Unit</th>\n",
       "      <th>Y2014</th>\n",
       "      <th>Y2015</th>\n",
       "      <th>Y2016</th>\n",
       "      <th>Y2017</th>\n",
       "      <th>Y2018</th>\n",
       "    </tr>\n",
       "  </thead>\n",
       "  <tbody>\n",
       "    <tr>\n",
       "      <th>0</th>\n",
       "      <td>4</td>\n",
       "      <td>Algeria</td>\n",
       "      <td>2501</td>\n",
       "      <td>Population</td>\n",
       "      <td>511</td>\n",
       "      <td>Total Population - Both sexes</td>\n",
       "      <td>1000 persons</td>\n",
       "      <td>38924.00</td>\n",
       "      <td>39728.00</td>\n",
       "      <td>40551.00</td>\n",
       "      <td>41389.00</td>\n",
       "      <td>42228.00</td>\n",
       "    </tr>\n",
       "    <tr>\n",
       "      <th>1</th>\n",
       "      <td>4</td>\n",
       "      <td>Algeria</td>\n",
       "      <td>2501</td>\n",
       "      <td>Population</td>\n",
       "      <td>5301</td>\n",
       "      <td>Domestic supply quantity</td>\n",
       "      <td>1000 tonnes</td>\n",
       "      <td>0.00</td>\n",
       "      <td>0.00</td>\n",
       "      <td>0.00</td>\n",
       "      <td>0.00</td>\n",
       "      <td>0.00</td>\n",
       "    </tr>\n",
       "    <tr>\n",
       "      <th>2</th>\n",
       "      <td>4</td>\n",
       "      <td>Algeria</td>\n",
       "      <td>2901</td>\n",
       "      <td>Grand Total</td>\n",
       "      <td>664</td>\n",
       "      <td>Food supply (kcal/capita/day)</td>\n",
       "      <td>kcal/capita/day</td>\n",
       "      <td>3377.00</td>\n",
       "      <td>3379.00</td>\n",
       "      <td>3372.00</td>\n",
       "      <td>3341.00</td>\n",
       "      <td>3322.00</td>\n",
       "    </tr>\n",
       "    <tr>\n",
       "      <th>3</th>\n",
       "      <td>4</td>\n",
       "      <td>Algeria</td>\n",
       "      <td>2901</td>\n",
       "      <td>Grand Total</td>\n",
       "      <td>674</td>\n",
       "      <td>Protein supply quantity (g/capita/day)</td>\n",
       "      <td>g/capita/day</td>\n",
       "      <td>94.90</td>\n",
       "      <td>94.35</td>\n",
       "      <td>94.72</td>\n",
       "      <td>92.82</td>\n",
       "      <td>91.83</td>\n",
       "    </tr>\n",
       "    <tr>\n",
       "      <th>4</th>\n",
       "      <td>4</td>\n",
       "      <td>Algeria</td>\n",
       "      <td>2901</td>\n",
       "      <td>Grand Total</td>\n",
       "      <td>684</td>\n",
       "      <td>Fat supply quantity (g/capita/day)</td>\n",
       "      <td>g/capita/day</td>\n",
       "      <td>80.06</td>\n",
       "      <td>79.36</td>\n",
       "      <td>77.40</td>\n",
       "      <td>80.19</td>\n",
       "      <td>77.28</td>\n",
       "    </tr>\n",
       "  </tbody>\n",
       "</table>\n",
       "</div>"
      ],
      "text/plain": [
       "   Area Code     Area  Item Code         Item  Element Code  \\\n",
       "0          4  Algeria       2501   Population           511   \n",
       "1          4  Algeria       2501   Population          5301   \n",
       "2          4  Algeria       2901  Grand Total           664   \n",
       "3          4  Algeria       2901  Grand Total           674   \n",
       "4          4  Algeria       2901  Grand Total           684   \n",
       "\n",
       "                                  Element             Unit     Y2014  \\\n",
       "0           Total Population - Both sexes     1000 persons  38924.00   \n",
       "1                Domestic supply quantity      1000 tonnes      0.00   \n",
       "2           Food supply (kcal/capita/day)  kcal/capita/day   3377.00   \n",
       "3  Protein supply quantity (g/capita/day)     g/capita/day     94.90   \n",
       "4      Fat supply quantity (g/capita/day)     g/capita/day     80.06   \n",
       "\n",
       "      Y2015     Y2016     Y2017     Y2018  \n",
       "0  39728.00  40551.00  41389.00  42228.00  \n",
       "1      0.00      0.00      0.00      0.00  \n",
       "2   3379.00   3372.00   3341.00   3322.00  \n",
       "3     94.35     94.72     92.82     91.83  \n",
       "4     79.36     77.40     80.19     77.28  "
      ]
     },
     "execution_count": 8,
     "metadata": {},
     "output_type": "execute_result"
    }
   ],
   "source": [
    "csv_df.head()"
   ]
  },
  {
   "cell_type": "code",
   "execution_count": 18,
   "id": "f7173335",
   "metadata": {},
   "outputs": [
    {
     "data": {
      "text/plain": [
       "Element\n",
       "Domestic supply quantity                  5258\n",
       "Export Quantity                           3660\n",
       "Fat supply quantity (g/capita/day)        4982\n",
       "Feed                                      1213\n",
       "Food                                      4912\n",
       "Food supply (kcal/capita/day)             4965\n",
       "Food supply quantity (kg/capita/yr)       4876\n",
       "Import Quantity                           4929\n",
       "Losses                                    2009\n",
       "Other uses (non-food)                     1619\n",
       "Processing                                1998\n",
       "Production                                3829\n",
       "Protein supply quantity (g/capita/day)    4980\n",
       "Residuals                                 4618\n",
       "Seed                                       758\n",
       "Stock Variation                           4231\n",
       "Total Population - Both sexes               45\n",
       "Tourist consumption                        555\n",
       "Name: Y2017, dtype: int64"
      ]
     },
     "execution_count": 18,
     "metadata": {},
     "output_type": "execute_result"
    }
   ],
   "source": [
    "csv_df.groupby(\"Item\")[\"Y2017\"].sum()"
   ]
  },
  {
   "cell_type": "code",
   "execution_count": 30,
   "id": "6bdb164b",
   "metadata": {},
   "outputs": [
    {
     "data": {
      "text/plain": [
       "1535"
      ]
     },
     "execution_count": 30,
     "metadata": {},
     "output_type": "execute_result"
    }
   ],
   "source": [
    "csv_df[\"Y2016\"].isna().sum()"
   ]
  },
  {
   "cell_type": "code",
   "execution_count": 31,
   "id": "2b4650b5",
   "metadata": {
    "scrolled": true
   },
   "outputs": [
    {
     "data": {
      "text/plain": [
       "136.55522236062103"
      ]
     },
     "execution_count": 31,
     "metadata": {},
     "output_type": "execute_result"
    }
   ],
   "source": [
    "csv_df[\"Y2016\"].mean()"
   ]
  },
  {
   "cell_type": "code",
   "execution_count": 32,
   "id": "9b8db165",
   "metadata": {},
   "outputs": [
    {
     "data": {
      "text/plain": [
       "1640.0071942671407"
      ]
     },
     "execution_count": 32,
     "metadata": {},
     "output_type": "execute_result"
    }
   ],
   "source": [
    "csv_df[\"Y2016\"].std()"
   ]
  },
  {
   "cell_type": "code",
   "execution_count": 22,
   "id": "5aab6e5c",
   "metadata": {},
   "outputs": [
    {
     "data": {
      "text/plain": [
       "Element\n",
       "Domestic supply quantity                  5244\n",
       "Export Quantity                           3660\n",
       "Fat supply quantity (g/capita/day)        4965\n",
       "Feed                                      1216\n",
       "Food                                      4896\n",
       "Food supply (kcal/capita/day)             4947\n",
       "Food supply quantity (kg/capita/yr)       4860\n",
       "Import Quantity                           4919\n",
       "Losses                                    2009\n",
       "Other uses (non-food)                     1662\n",
       "Processing                                1987\n",
       "Production                                3830\n",
       "Protein supply quantity (g/capita/day)    4963\n",
       "Residuals                                 4604\n",
       "Seed                                       762\n",
       "Stock Variation                           4230\n",
       "Total Population - Both sexes               45\n",
       "Tourist consumption                        555\n",
       "Name: Y2014, dtype: int64"
      ]
     },
     "execution_count": 22,
     "metadata": {},
     "output_type": "execute_result"
    }
   ],
   "source": [
    "csv_df.groupby(\"Element\")[\"Y2014\"].count()"
   ]
  },
  {
   "cell_type": "code",
   "execution_count": 23,
   "id": "f1cf410d",
   "metadata": {},
   "outputs": [
    {
     "data": {
      "text/plain": [
       "Element\n",
       "Domestic supply quantity                  1996716.35\n",
       "Export Quantity                            150020.64\n",
       "Fat supply quantity (g/capita/day)          10225.56\n",
       "Feed                                       216927.89\n",
       "Food                                      1212332.49\n",
       "Food supply (kcal/capita/day)              454257.00\n",
       "Food supply quantity (kg/capita/yr)         49650.63\n",
       "Import Quantity                            274144.48\n",
       "Losses                                     153223.00\n",
       "Other uses (non-food)                       78718.13\n",
       "Processing                                 282923.00\n",
       "Production                                1931287.75\n",
       "Protein supply quantity (g/capita/day)      11836.46\n",
       "Residuals                                   30149.00\n",
       "Seed                                        21922.92\n",
       "Stock Variation                             58749.83\n",
       "Total Population - Both sexes             1031585.00\n",
       "Tourist consumption                           416.00\n",
       "Name: Y2014, dtype: float64"
      ]
     },
     "execution_count": 23,
     "metadata": {},
     "output_type": "execute_result"
    }
   ],
   "source": [
    "csv_df.groupby(\"Element\")[\"Y2014\"].sum()"
   ]
  },
  {
   "cell_type": "code",
   "execution_count": 29,
   "id": "f7af7860",
   "metadata": {},
   "outputs": [
    {
     "data": {
      "text/plain": [
       "Area\n",
       "Algeria                        1298\n",
       "Angola                         1396\n",
       "Benin                          1252\n",
       "Botswana                       1361\n",
       "Burkina Faso                   1373\n",
       "Cabo Verde                     1192\n",
       "Cameroon                       1432\n",
       "Central African Republic       1308\n",
       "Chad                           1305\n",
       "Comoros                          45\n",
       "Congo                          1377\n",
       "Côte d'Ivoire                  1455\n",
       "Djibouti                       1040\n",
       "Egypt                          1468\n",
       "Eswatini                       1231\n",
       "Ethiopia                       1425\n",
       "Ethiopia PDR                     39\n",
       "Gabon                          1192\n",
       "Gambia                         1118\n",
       "Ghana                          1337\n",
       "Guinea                         1385\n",
       "Guinea-Bissau                  1091\n",
       "Kenya                          1548\n",
       "Lesotho                        1094\n",
       "Liberia                        1133\n",
       "Madagascar                     1424\n",
       "Malawi                         1410\n",
       "Mali                           1260\n",
       "Mauritania                     1170\n",
       "Mauritius                      1342\n",
       "Morocco                        1368\n",
       "Mozambique                     1400\n",
       "Namibia                        1256\n",
       "Niger                          1368\n",
       "Nigeria                        1456\n",
       "Rwanda                         1403\n",
       "Sao Tome and Principe          1109\n",
       "Senegal                        1448\n",
       "Seychelles                       68\n",
       "Sierra Leone                   1197\n",
       "South Africa                   1396\n",
       "Sudan                          1268\n",
       "Sudan (former)                   53\n",
       "Togo                           1266\n",
       "Tunisia                        1320\n",
       "Uganda                         1445\n",
       "United Republic of Tanzania    1408\n",
       "Zambia                         1421\n",
       "Zimbabwe                       1356\n",
       "Name: Y2018, dtype: int64"
      ]
     },
     "execution_count": 29,
     "metadata": {},
     "output_type": "execute_result"
    }
   ],
   "source": [
    "csv_df.groupby(\"Area\")[\"Y2018\"].count()"
   ]
  },
  {
   "cell_type": "code",
   "execution_count": 27,
   "id": "61b75e01",
   "metadata": {},
   "outputs": [
    {
     "data": {
      "text/plain": [
       "49"
      ]
     },
     "execution_count": 27,
     "metadata": {},
     "output_type": "execute_result"
    }
   ],
   "source": [
    "n = pd.unique(csv_df[\"Area\"])\n",
    "len(n)"
   ]
  }
 ],
 "metadata": {
  "kernelspec": {
   "display_name": "Python 3 (ipykernel)",
   "language": "python",
   "name": "python3"
  },
  "language_info": {
   "codemirror_mode": {
    "name": "ipython",
    "version": 3
   },
   "file_extension": ".py",
   "mimetype": "text/x-python",
   "name": "python",
   "nbconvert_exporter": "python",
   "pygments_lexer": "ipython3",
   "version": "3.9.7"
  }
 },
 "nbformat": 4,
 "nbformat_minor": 5
}
